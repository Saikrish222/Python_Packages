{
 "cells": [
  {
   "cell_type": "markdown",
   "id": "b549184b-c95c-487a-9850-bcfbaa70e9a5",
   "metadata": {},
   "source": [
    "### Numpy Installation"
   ]
  },
  {
   "cell_type": "code",
   "execution_count": 3,
   "id": "216af694-ce0d-411f-a860-a279460ce239",
   "metadata": {},
   "outputs": [
    {
     "name": "stdout",
     "output_type": "stream",
     "text": [
      "Defaulting to user installation because normal site-packages is not writeable\n",
      "Requirement already satisfied: numpy in c:\\programdata\\anaconda3\\lib\\site-packages (1.26.4)\n"
     ]
    }
   ],
   "source": [
    "#numpy\n",
    "!pip install numpy"
   ]
  },
  {
   "cell_type": "code",
   "execution_count": 6,
   "id": "8aada9f7-d691-49c7-835c-352750c4609c",
   "metadata": {},
   "outputs": [
    {
     "name": "stdout",
     "output_type": "stream",
     "text": [
      "[1 2 3]\n",
      "[[1.5 2.  3. ]\n",
      " [4.  5.  6. ]]\n",
      "[[[1.5 2.  3. ]\n",
      "  [4.  5.  6. ]]\n",
      "\n",
      " [[3.  2.  1. ]\n",
      "  [4.  5.  6. ]]]\n"
     ]
    }
   ],
   "source": [
    "#importing numpy\n",
    "import numpy as np\n",
    "\n",
    "#creating numpy\n",
    "\n",
    "a = np.array([1,2,3])\n",
    "b = np.array([(1.5,2,3),(4,5,6,)])\n",
    "c = np.array([[(1.5,2,3),(4,5,6)],[(3,2,1),(4,5,6)]])\n",
    "print(a)\n",
    "print(b)\n",
    "print(c)             "
   ]
  },
  {
   "cell_type": "code",
   "execution_count": 39,
   "id": "87e3e8fa-686f-4c06-9e3c-c458d27466cd",
   "metadata": {},
   "outputs": [
    {
     "name": "stdout",
     "output_type": "stream",
     "text": [
      "['kittu' 'saikrishna']\n",
      "[['sai' 'krishna' 'pranay']\n",
      " ['pranay' 'vamsi' 'vasu']]\n",
      "[[['reddy' 'krishna' 'sai']\n",
      "  ['python' 'coding' 'challange']]\n",
      "\n",
      " [['cat' 'ball' 'tie']\n",
      "  ['4' '5' '6']]]\n"
     ]
    }
   ],
   "source": [
    "import numpy as np\n",
    "a = np.array(['kittu','saikrishna'])\n",
    "b = np.array([('sai','krishna','pranay'),('pranay','vamsi','vasu')])\n",
    "c = np.array([[('reddy','krishna','sai'),('python','coding','challange')],[('cat','ball','tie'),(4,5,6)]])\n",
    "print(a)\n",
    "print(b)\n",
    "print(c)"
   ]
  },
  {
   "cell_type": "code",
   "execution_count": 76,
   "id": "542be4de-d3bb-4873-9a7d-1a3f814b536b",
   "metadata": {},
   "outputs": [
    {
     "name": "stdout",
     "output_type": "stream",
     "text": [
      "[[0. 0. 0. 0. 0. 0. 0. 0. 0. 0.]\n",
      " [0. 0. 0. 0. 0. 0. 0. 0. 0. 0.]]\n",
      "[[0. 0. 0. 0. 0.]\n",
      " [0. 0. 0. 0. 0.]\n",
      " [0. 0. 0. 0. 0.]\n",
      " [0. 0. 0. 0. 0.]\n",
      " [0. 0. 0. 0. 0.]\n",
      " [0. 0. 0. 0. 0.]\n",
      " [0. 0. 0. 0. 0.]\n",
      " [0. 0. 0. 0. 0.]\n",
      " [0. 0. 0. 0. 0.]\n",
      " [0. 0. 0. 0. 0.]]\n",
      "[[[1. 1. 1. 1.]\n",
      "  [1. 1. 1. 1.]\n",
      "  [1. 1. 1. 1.]]\n",
      "\n",
      " [[1. 1. 1. 1.]\n",
      "  [1. 1. 1. 1.]\n",
      "  [1. 1. 1. 1.]]]\n"
     ]
    }
   ],
   "source": [
    "#intial placeholders\n",
    "#create an array og zeros\n",
    "f = np.zeros((2,10))\n",
    "print(f)\n",
    "\n",
    "s = np.zeros((10,5))\n",
    "print(s)\n",
    "\n",
    "#creating an array of ones\n",
    "d = np.ones((2,3,4))\n",
    "print(d)\n"
   ]
  },
  {
   "cell_type": "code",
   "execution_count": 102,
   "id": "cff80748-7475-4a43-8ee1-e6d9a2f8599f",
   "metadata": {},
   "outputs": [
    {
     "name": "stdout",
     "output_type": "stream",
     "text": [
      "[10 13 16 19 22]\n",
      "[25 75]\n"
     ]
    }
   ],
   "source": [
    "#creating an array of evenly space\n",
    "d = np.arange(10,25,3) #steps n-1(3-1=2)\n",
    "print(d)\n",
    "\n",
    "f = np.arange(25,100,50)\n",
    "print(f)"
   ]
  },
  {
   "cell_type": "code",
   "execution_count": 109,
   "id": "1b517b78-3e5a-410e-9641-130517db6724",
   "metadata": {},
   "outputs": [
    {
     "data": {
      "text/plain": [
       "array([10.        , 17.77777778, 25.55555556, 33.33333333, 41.11111111,\n",
       "       48.88888889, 56.66666667, 64.44444444, 72.22222222, 80.        ])"
      ]
     },
     "execution_count": 109,
     "metadata": {},
     "output_type": "execute_result"
    }
   ],
   "source": [
    "##creating an array evenly spced values\n",
    "np.linspace(10,80,10)"
   ]
  },
  {
   "cell_type": "code",
   "execution_count": 129,
   "id": "8e87d348-7668-46cb-a0de-bdcd17481b65",
   "metadata": {},
   "outputs": [
    {
     "name": "stdout",
     "output_type": "stream",
     "text": [
      "[9 9 9 9 9 9]\n",
      "1\n",
      "[0 0 0 0 0 0 0 0 0 0 0]\n",
      "1\n",
      "[[9 9 9 9]\n",
      " [9 9 9 9]\n",
      " [9 9 9 9]\n",
      " [9 9 9 9]\n",
      " [9 9 9 9]\n",
      " [9 9 9 9]]\n",
      "2\n",
      "[[[5 5 5 5]\n",
      "  [5 5 5 5]\n",
      "  [5 5 5 5]\n",
      "  [5 5 5 5]\n",
      "  [5 5 5 5]\n",
      "  [5 5 5 5]]\n",
      "\n",
      " [[5 5 5 5]\n",
      "  [5 5 5 5]\n",
      "  [5 5 5 5]\n",
      "  [5 5 5 5]\n",
      "  [5 5 5 5]\n",
      "  [5 5 5 5]]]\n",
      "3\n"
     ]
    }
   ],
   "source": [
    "#creating a constant array\n",
    "e = np.full((6),9)\n",
    "print(e)\n",
    "print(e.ndim)\n",
    "\n",
    "d = np.full((11),0)\n",
    "print(d)\n",
    "print(d.ndim)\n",
    "\n",
    "f = np.full((6,4),9)\n",
    "print(f)\n",
    "print(f.ndim)\n",
    "\n",
    "a = np.full((2,6,4),5)#shape,row,column\n",
    "print(a)\n",
    "print(a.ndim)"
   ]
  },
  {
   "cell_type": "code",
   "execution_count": 135,
   "id": "e5477eff-6551-4f92-8741-3640abd970e1",
   "metadata": {},
   "outputs": [
    {
     "name": "stdout",
     "output_type": "stream",
     "text": [
      "[[1. 0.]\n",
      " [0. 1.]]\n",
      "[[1. 0. 0. 0.]\n",
      " [0. 1. 0. 0.]\n",
      " [0. 0. 1. 0.]\n",
      " [0. 0. 0. 1.]]\n"
     ]
    }
   ],
   "source": [
    "#create a 2*2 identity matrix\n",
    "f = np.eye(2)\n",
    "print(f)\n",
    "\n",
    "d = np.eye(4)\n",
    "print(d)"
   ]
  },
  {
   "cell_type": "code",
   "execution_count": 142,
   "id": "a5123b13-7efb-455b-8ef3-77d33401356f",
   "metadata": {},
   "outputs": [
    {
     "data": {
      "text/plain": [
       "array([[0.52414386, 0.28701346, 0.15883661],\n",
       "       [0.9044315 , 0.90008277, 0.03230925]])"
      ]
     },
     "execution_count": 142,
     "metadata": {},
     "output_type": "execute_result"
    }
   ],
   "source": [
    "#creating an array with random values\n",
    "np.random.random((2,3))"
   ]
  },
  {
   "cell_type": "code",
   "execution_count": 152,
   "id": "ce384a5f-736c-48d2-a12c-9624fb8e44e9",
   "metadata": {},
   "outputs": [
    {
     "name": "stdout",
     "output_type": "stream",
     "text": [
      "4\n",
      "10\n"
     ]
    }
   ],
   "source": [
    "#finding the size of array\n",
    "arr = np.array ([[2,3],\n",
    "                 [4,5]])\n",
    "print(arr.size)\n",
    "\n",
    "d = np.array ([[2,3],\n",
    "               [2,7],\n",
    "               [5,2],\n",
    "               [34,5],\n",
    "               [4,5]])\n",
    "print(d.size)"
   ]
  },
  {
   "cell_type": "code",
   "execution_count": 162,
   "id": "d6242a16-7b28-4055-952f-50c29ecb7017",
   "metadata": {},
   "outputs": [
    {
     "name": "stdout",
     "output_type": "stream",
     "text": [
      "4\n",
      "7\n"
     ]
    }
   ],
   "source": [
    "#finding the len of array\n",
    "arr = np.array([[2,4],\n",
    "                [6,2],\n",
    "                [9,2],\n",
    "                [4,7]])\n",
    "print(len(arr))\n",
    "\n",
    "d =  np.array([[2,4],\n",
    "               [6,2],\n",
    "               [9,2],\n",
    "               [23,45],\n",
    "               [32,45],\n",
    "               [23,46],\n",
    "               [4,7]])\n",
    "print(len(d))"
   ]
  },
  {
   "cell_type": "code",
   "execution_count": 8,
   "id": "9b870ef1-1663-4ecf-b12a-cd1b421341b3",
   "metadata": {},
   "outputs": [
    {
     "name": "stdout",
     "output_type": "stream",
     "text": [
      "3\n"
     ]
    }
   ],
   "source": [
    "#acccess array elements:\n",
    "arr = np.array([1,2,3,4])\n",
    "print(arr[2])"
   ]
  },
  {
   "cell_type": "code",
   "execution_count": 30,
   "id": "93050bcc-0a73-47a7-9ee0-848cfcc106d5",
   "metadata": {},
   "outputs": [
    {
     "name": "stdout",
     "output_type": "stream",
     "text": [
      "8\n",
      "-3\n",
      "8\n",
      "0\n",
      "0.5\n",
      "81\n",
      "2\n"
     ]
    }
   ],
   "source": [
    "#adding two index position\n",
    "arr = np.array([1,2,3,4])\n",
    "\n",
    "print(arr[2] + arr[3] + arr[0])\n",
    "print(arr[0] - arr[3])\n",
    "print(arr[1] * arr[3])\n",
    "print(arr[2] % arr[2])\n",
    "print(arr[1] / arr[3])\n",
    "print(arr[2] ** arr[3])\n",
    "print(arr[3] // arr[1])"
   ]
  },
  {
   "cell_type": "code",
   "execution_count": 60,
   "id": "a95ab413-e7ac-41df-ac3d-402365ebb823",
   "metadata": {},
   "outputs": [
    {
     "name": "stdout",
     "output_type": "stream",
     "text": [
      "2nd element on 1st row: 8\n",
      "3rd element of 2nd row: 2\n"
     ]
    }
   ],
   "source": [
    "#accessing 2dim array elements\n",
    "arr = np.array([[1,2,3,4,5],\n",
    "              [6,7,8,9,2],\n",
    "              [5,4,3,2,1],\n",
    "              [2,3,4,5,6]])\n",
    "print('2nd element on 1st row:',arr[1,2])\n",
    "\n",
    "\n",
    "arr = np.array([[1,2,3,4,5],\n",
    "              [6,7,8,9,2],\n",
    "              [5,4,3,2,1],\n",
    "              [2,3,4,5,6]])\n",
    "print('3rd element of 2nd row:',arr[2,3])"
   ]
  },
  {
   "cell_type": "code",
   "execution_count": 72,
   "id": "57956390-12c8-4ed6-9b5d-e7060aae5371",
   "metadata": {},
   "outputs": [
    {
     "name": "stdout",
     "output_type": "stream",
     "text": [
      "5\n",
      "15\n"
     ]
    }
   ],
   "source": [
    "#accessing 3dim array elements\n",
    "arr = np.array([[[1,2,3],[3,2,1]],  \n",
    "                [[4,5,6],[6,19,4]],\n",
    "                [[7,8,11],[9,8,7]],\n",
    "                [[1,4,17],[3,6,91]]])\n",
    "print(arr[1,0,1])\n",
    "\n",
    "arr = np.array([[[1,2,3],[3,2,1]],  \n",
    "                [[4,5,6],[6,19,15]],\n",
    "                [[7,8,11],[9,8,7]],\n",
    "                [[1,4,17],[3,6,91]]])\n",
    "print(arr[1,1,2])"
   ]
  },
  {
   "cell_type": "code",
   "execution_count": 104,
   "id": "a9247417-d1a2-4a1f-8c97-bdc8221b1015",
   "metadata": {},
   "outputs": [
    {
     "name": "stdout",
     "output_type": "stream",
     "text": [
      "[b'1' b'2' b'3' b'4']\n",
      "|S1\n",
      "[3 0 7 8]\n",
      "int32\n"
     ]
    }
   ],
   "source": [
    "#data types \n",
    "#string\n",
    "arr = np.array([1,2,3,4],dtype = 'S')\n",
    "print(arr)\n",
    "print(arr.dtype)\n",
    "\n",
    "arr = np.array([3,0,7,8],dtype = 'i')\n",
    "print(arr)\n",
    "print(arr.dtype)               \n",
    "\n",
    "          "
   ]
  },
  {
   "cell_type": "code",
   "execution_count": 100,
   "id": "41c757ec-9a8f-4e6e-8ee7-411d41b9ccd1",
   "metadata": {},
   "outputs": [
    {
     "name": "stdout",
     "output_type": "stream",
     "text": [
      "[1. 2. 3. 4.]\n",
      "float32\n",
      "[b'765' b'3' b'45']\n",
      "|S3\n"
     ]
    }
   ],
   "source": [
    "#integer\n",
    "arr = np.array([1,2,3,4],dtype = 'f')\n",
    "print(arr)\n",
    "print(arr.dtype)\n",
    "\n",
    "arr = np.array([765,3,45],dtype = 'S')\n",
    "print(arr)\n",
    "print(arr.dtype)"
   ]
  },
  {
   "cell_type": "code",
   "execution_count": 112,
   "id": "ee1911cd-8359-4235-abc4-2c73e8d05a8b",
   "metadata": {},
   "outputs": [
    {
     "name": "stdout",
     "output_type": "stream",
     "text": [
      "[ True False  True]\n",
      "bool\n",
      "[False  True  True]\n",
      "bool\n"
     ]
    }
   ],
   "source": [
    "#bool \n",
    "arr = np.array([1,0,3])\n",
    "newarr = arr.astype(bool)\n",
    "print(newarr)\n",
    "print(newarr.dtype)\n",
    "\n",
    "arr = np.array([0,1,-2])\n",
    "newarr = arr.astype(bool)\n",
    "print(newarr)\n",
    "print(newarr.dtype)"
   ]
  },
  {
   "cell_type": "code",
   "execution_count": 116,
   "id": "45a0ecb6-8d74-4f56-8277-d21c7be7155e",
   "metadata": {},
   "outputs": [
    {
     "name": "stdout",
     "output_type": "stream",
     "text": [
      "[1 3 2]\n",
      "int32\n"
     ]
    }
   ],
   "source": [
    "#change \n",
    "arr = np.array([1.2,3.2,2.5])\n",
    "newarr = arr.astype('i')\n",
    "print(newarr)\n",
    "print(newarr.dtype)"
   ]
  },
  {
   "cell_type": "code",
   "execution_count": 122,
   "id": "60a6acfc-4b8d-45ee-b0ea-327f69f9a0f8",
   "metadata": {},
   "outputs": [
    {
     "name": "stdout",
     "output_type": "stream",
     "text": [
      "[  1   2   3   4 234]\n",
      "[1 2 3 4 5]\n",
      "[4523    2    3    4    5]\n",
      "[1 2 3 4 5]\n"
     ]
    }
   ],
   "source": [
    "#copy method\n",
    "arr = np.array([1,2,3,4,5])\n",
    "x = arr.copy()\n",
    "arr[4]=234\n",
    "print(arr)\n",
    "print(x)\n",
    "\n",
    "arr = np.array([1,2,3,4,5])\n",
    "x = arr.copy()\n",
    "arr[0]=4523\n",
    "print(arr)\n",
    "print(x)"
   ]
  },
  {
   "cell_type": "code",
   "execution_count": 132,
   "id": "64e4c1e8-d7e5-4e48-90b9-b3a54bbde72e",
   "metadata": {},
   "outputs": [
    {
     "name": "stdout",
     "output_type": "stream",
     "text": [
      "[1 2 3 4 5]\n",
      "[76 34 43 45]\n"
     ]
    }
   ],
   "source": [
    "#view method\n",
    "arr = np.array([1,7,3,4,5])\n",
    "x = arr.view()\n",
    "arr[1] = 2\n",
    "print(x)\n",
    "\n",
    "#\n",
    "arr = np.array([123,34,43,45])\n",
    "x = arr.view()\n",
    "arr[0] = 76\n",
    "print(x)"
   ]
  },
  {
   "cell_type": "code",
   "execution_count": 146,
   "id": "d72b5fbc-09bd-4b85-aca5-2d7552f0c266",
   "metadata": {},
   "outputs": [
    {
     "name": "stdout",
     "output_type": "stream",
     "text": [
      "(3, 4)\n"
     ]
    }
   ],
   "source": [
    "#shape\n",
    "arr = np.array([[9,8,7,6],[2,3,4,5],[2,45,5,2]])\n",
    "              \n",
    "print(arr.shape)"
   ]
  },
  {
   "cell_type": "code",
   "execution_count": null,
   "id": "6b8270d7-8779-41e4-9579-7d0baa5b67ab",
   "metadata": {},
   "outputs": [],
   "source": []
  }
 ],
 "metadata": {
  "kernelspec": {
   "display_name": "Python 3 (ipykernel)",
   "language": "python",
   "name": "python3"
  },
  "language_info": {
   "codemirror_mode": {
    "name": "ipython",
    "version": 3
   },
   "file_extension": ".py",
   "mimetype": "text/x-python",
   "name": "python",
   "nbconvert_exporter": "python",
   "pygments_lexer": "ipython3",
   "version": "3.12.4"
  }
 },
 "nbformat": 4,
 "nbformat_minor": 5
}
